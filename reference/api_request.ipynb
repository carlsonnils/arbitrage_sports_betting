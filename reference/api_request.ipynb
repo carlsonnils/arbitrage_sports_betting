{
 "cells": [
  {
   "cell_type": "code",
   "execution_count": 1,
   "metadata": {},
   "outputs": [],
   "source": [
    "import requests\n",
    "import pandas as pd\n",
    "import json"
   ]
  },
  {
   "cell_type": "code",
   "execution_count": 2,
   "metadata": {},
   "outputs": [],
   "source": [
    "def load_api_key(key_path: str):\n",
    "    with open(key_path, mode='r') as file:\n",
    "        API_KEY = file.read()\n",
    "    return API_KEY\n",
    "\n",
    "\n",
    "def get_sports_data(api_key: str, return_data: bool = False, return_headers: bool = False):\n",
    "\n",
    "    sports_response = requests.get('https://api.the-odds-api.com/v4/sports', params={\n",
    "        'api_key': api_key\n",
    "    })\n",
    "\n",
    "    if sports_response.status_code != 200:\n",
    "        print(f'Failed to get sports: status_code {sports_response.status_code}, response body {sports_response.text}')\n",
    "    else:\n",
    "        # write sports data to database in \"in_season_sports\" table\n",
    "        df = pd.DataFrame(sports_response.json())\n",
    "        # write headers info to database in \"in_season_sports_headers\" table\n",
    "        headers = sports_response.headers\n",
    "        headers_df = pd.DataFrame(data=dict(headers), index=[0])\n",
    "    \n",
    "    if return_data:\n",
    "        return df\n",
    "    if return_headers:\n",
    "        return headers_df\n",
    "    \n",
    "    return df, headers_df\n",
    "\n",
    "\n",
    "def get_odds_data(api_key: str, sport: str, regions: str, markets: str, odds_format: str, date_format: str):\n",
    "\n",
    "    odds_response = requests.get(f'https://api.the-odds-api.com/v4/sports/{sport}/odds', params={\n",
    "        'api_key': api_key,\n",
    "        'regions': regions,\n",
    "        'markets': markets,\n",
    "        'oddsFormat': odds_format,\n",
    "        'dateFormat': date_format,\n",
    "    })\n",
    "\n",
    "    with open(r'/home/carls/projects/odds_site/odds_site_db/epl_odds_response.json', mode='w') as json_file:\n",
    "        odds_json = json.dump(odds_response.json(), json_file)\n",
    "\n",
    "    extra_meta = [['bookmakers', 'key'], ['bookmakers', 'title'], ['bookmakers', 'last_update'], ['bookmakers', 'markets', 'last_update'], ['bookmakers', 'markets', 'key']]\n",
    "    meta = pd.json_normalize(data=odds_response.json()).columns.to_list()[:-1] + extra_meta\n",
    "\n",
    "    odds_df = pd.json_normalize(\n",
    "        data=odds_response.json(),\n",
    "        meta=meta,\n",
    "        record_path=['bookmakers', 'markets', 'outcomes'],\n",
    "    )\n",
    "\n",
    "    odds_headers_df = pd.DataFrame(dict(odds_response.headers), index=[0])\n",
    "\n",
    "    return odds_df, odds_headers_df, odds_response"
   ]
  },
  {
   "cell_type": "code",
   "execution_count": 3,
   "metadata": {},
   "outputs": [],
   "source": [
    "DB_PATH = r'/home/carls/projects/odds_site/odds_site_db/'\n",
    "BASE_URL = 'https://api.the-odds-api.com/v4/sports'\n",
    "\n",
    "APIKEY_PATH = r'/home/carls/projects/odds_site/api_key/odds_api_key.txt'\n",
    "# API_KEY = load_api_key(key_path = APIKEY_PATH)"
   ]
  },
  {
   "cell_type": "code",
   "execution_count": 4,
   "metadata": {},
   "outputs": [],
   "source": [
    "SPORT = 'soccer_epl'\n",
    "REGIONS = 'us'\n",
    "MARKETS = 'h2h'\n",
    "ODDS_FORMAT = 'decimal'\n",
    "DATE_FORMAT = 'iso'\n",
    "\n",
    "# data, headers, res = get_odds_data(\n",
    "#     api_key=API_KEY, \n",
    "#     sport=SPORT,\n",
    "#     regions=REGIONS,\n",
    "#     markets=MARKETS,\n",
    "#     odds_format=ODDS_FORMAT,\n",
    "#     date_format=DATE_FORMAT\n",
    "# )"
   ]
  },
  {
   "cell_type": "code",
   "execution_count": 5,
   "metadata": {},
   "outputs": [],
   "source": [
    "# data"
   ]
  },
  {
   "cell_type": "code",
   "execution_count": 6,
   "metadata": {},
   "outputs": [],
   "source": [
    "# headers"
   ]
  },
  {
   "cell_type": "code",
   "execution_count": 7,
   "metadata": {},
   "outputs": [],
   "source": [
    "# res.json()"
   ]
  }
 ],
 "metadata": {
  "kernelspec": {
   "display_name": "odds_site-YZXFGzZA",
   "language": "python",
   "name": "python3"
  },
  "language_info": {
   "codemirror_mode": {
    "name": "ipython",
    "version": 3
   },
   "file_extension": ".py",
   "mimetype": "text/x-python",
   "name": "python",
   "nbconvert_exporter": "python",
   "pygments_lexer": "ipython3",
   "version": "3.11.3"
  },
  "orig_nbformat": 4,
  "vscode": {
   "interpreter": {
    "hash": "edfb1855598ffbaee9b4678bfd8baf00c7e03e61e3aefb1e8106c30f5f7e0e30"
   }
  }
 },
 "nbformat": 4,
 "nbformat_minor": 2
}
